{
 "cells": [
  {
   "cell_type": "code",
   "execution_count": 8,
   "metadata": {},
   "outputs": [],
   "source": [
    "import time\n",
    "import urllib\n",
    "import bs4\n",
    "import requests"
   ]
  },
  {
   "cell_type": "code",
   "execution_count": 9,
   "metadata": {},
   "outputs": [],
   "source": [
    "start_url = \"https://en.wikipedia.org/wiki/Special:Random\"\n",
    "target_url = \"https://en.wikipedia.org/wiki/Philosophy\""
   ]
  },
  {
   "cell_type": "code",
   "execution_count": 10,
   "metadata": {},
   "outputs": [],
   "source": [
    "def find_first_link(url):\n",
    "    response = requests.get(url)\n",
    "    html = response.text\n",
    "    soup = bs4.BeautifulSoup(html, \"html.parser\")\n",
    "\n",
    "    # This div contains the article's body\n",
    "    content_div = soup.find(id=\"mw-content-text\").find(class_=\"mw-parser-output\")\n",
    "\n",
    "    # stores the first link found in the article, if the article contains no\n",
    "    # links this value will remain None\n",
    "    article_link = None\n",
    "\n",
    "    # Find all the direct children of content_div that are paragraphs\n",
    "    for element in content_div.find_all(\"p\", recursive=False):\n",
    "        # Find the first anchor tag that's a direct child of a paragraph.\n",
    "        # It's important to only look at direct children, because other types\n",
    "        # of link, e.g. footnotes and pronunciation, could come before the\n",
    "        # first link to an article. Those other link types aren't direct\n",
    "        # children though, they're in divs of various classes.\n",
    "        if element.find(\"a\", recursive=False):\n",
    "            article_link = element.find(\"a\", recursive=False).get('href')\n",
    "            break\n",
    "\n",
    "    if not article_link:\n",
    "        return\n",
    "\n",
    "    # Build a full url from the relative article_link url\n",
    "    first_link = urllib.parse.urljoin('https://en.wikipedia.org/', article_link)\n",
    "\n",
    "    return first_link"
   ]
  },
  {
   "cell_type": "code",
   "execution_count": 11,
   "metadata": {},
   "outputs": [],
   "source": [
    "def continue_crawl(search_history, target_url, max_steps=25):\n",
    "    if search_history[-1] == target_url:\n",
    "        print(\"We've found the target article!\")\n",
    "        return False\n",
    "    elif len(search_history) > max_steps:\n",
    "        print(\"The search has gone on suspiciously long, aborting search!\")\n",
    "        return False\n",
    "    elif search_history[-1] in search_history[:-1]:\n",
    "        print(\"We've arrived at an article we've already seen, aborting search!\")\n",
    "        return False\n",
    "    else:\n",
    "        return True\n",
    "\n",
    "article_chain = [start_url]"
   ]
  },
  {
   "cell_type": "code",
   "execution_count": 12,
   "metadata": {},
   "outputs": [
    {
     "name": "stdout",
     "output_type": "stream",
     "text": [
      "https://en.wikipedia.org/wiki/Special:Random\n",
      "https://en.wikipedia.org/wiki/New_Zealand\n",
      "https://en.wikipedia.org/wiki/M%C4%81ori_language\n",
      "https://en.wikipedia.org/wiki/Eastern_Polynesian_languages\n",
      "https://en.wikipedia.org/wiki/Language_family\n",
      "https://en.wikipedia.org/wiki/Language\n",
      "https://en.wikipedia.org/wiki/Grammar\n",
      "https://en.wikipedia.org/wiki/Linguistics\n",
      "https://en.wikipedia.org/wiki/Science\n",
      "https://en.wikipedia.org/wiki/Latin\n",
      "https://en.wikipedia.org/wiki/Classical_language\n",
      "We've arrived at an article we've already seen, aborting search!\n"
     ]
    }
   ],
   "source": [
    "while continue_crawl(article_chain, target_url):\n",
    "    print(article_chain[-1])\n",
    "\n",
    "    first_link = find_first_link(article_chain[-1])\n",
    "    if not first_link:\n",
    "        print(\"We've arrived at an article with no links, aborting search!\")\n",
    "        break\n",
    "\n",
    "    article_chain.append(first_link)\n",
    "\n",
    "    time.sleep(2) # Slow things down so as to not hammer Wikipedia's servers"
   ]
  },
  {
   "cell_type": "code",
   "execution_count": null,
   "metadata": {},
   "outputs": [],
   "source": []
  },
  {
   "cell_type": "code",
   "execution_count": null,
   "metadata": {},
   "outputs": [],
   "source": []
  }
 ],
 "metadata": {
  "kernelspec": {
   "display_name": "Python 3",
   "language": "python",
   "name": "python3"
  },
  "language_info": {
   "codemirror_mode": {
    "name": "ipython",
    "version": 3
   },
   "file_extension": ".py",
   "mimetype": "text/x-python",
   "name": "python",
   "nbconvert_exporter": "python",
   "pygments_lexer": "ipython3",
   "version": "3.7.6"
  }
 },
 "nbformat": 4,
 "nbformat_minor": 2
}
